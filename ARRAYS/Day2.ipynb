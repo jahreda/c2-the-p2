{
 "cells": [
  {
   "cell_type": "code",
   "execution_count": null,
   "id": "4a06c103-7d67-451f-8a86-320db147bc97",
   "metadata": {},
   "outputs": [],
   "source": [
    "import uproot\n",
    "import awkward as ak\n",
    "import numpy as np"
   ]
  },
  {
   "cell_type": "markdown",
   "id": "f7de3366-0069-448f-b663-43090bea5ab2",
   "metadata": {},
   "source": [
    "# Open File"
   ]
  },
  {
   "cell_type": "code",
   "execution_count": null,
   "id": "8304287a-bfb4-44af-a79d-42718181c040",
   "metadata": {},
   "outputs": [],
   "source": [
    "file = uproot.open(\"/lstr/sahara/act/data/DAOD_PHYSLITE.37621365._000015.pool.root.1\")"
   ]
  },
  {
   "cell_type": "markdown",
   "id": "b8ba9ee5-a491-4011-907e-3a08ff85c5bc",
   "metadata": {},
   "source": [
    "## Get to know your data\n",
    "MC simulation electroweak boson nominal samples from the ATLAS experiment. "
   ]
  },
  {
   "cell_type": "markdown",
   "id": "b45a665e-e1c1-464b-b4dc-85eaf9285c80",
   "metadata": {},
   "source": [
    "### Exercise 1:\n",
    "\n",
    "What objects are in this file? What's the name of the ttree?"
   ]
  },
  {
   "cell_type": "code",
   "execution_count": null,
   "id": "1a0fc10c-87b8-4523-a77c-92cfef3dca8e",
   "metadata": {},
   "outputs": [],
   "source": [
    "file.keys()"
   ]
  },
  {
   "cell_type": "code",
   "execution_count": null,
   "id": "39261ea5-bfcd-4a89-8666-95b75eb2ab0b",
   "metadata": {},
   "outputs": [],
   "source": [
    "# Access ttree\n",
    "tree = file[\"insert_tree_name_here\"] # fix me"
   ]
  },
  {
   "cell_type": "code",
   "execution_count": null,
   "id": "d31ac993-c1d5-4b14-a0b1-368e2870da04",
   "metadata": {},
   "outputs": [],
   "source": [
    "# we can see the list of branch names using tree.keys()\n",
    "tree.keys()"
   ]
  },
  {
   "cell_type": "code",
   "execution_count": null,
   "id": "cc217afb-4744-4453-995d-ff08f91b0395",
   "metadata": {},
   "outputs": [],
   "source": [
    "# or you can use tree.show() to see more information on the branches\n",
    "tree.show()"
   ]
  },
  {
   "cell_type": "markdown",
   "id": "e774fc15-f269-477e-8b71-56bf5ea2bd69",
   "metadata": {},
   "source": [
    "### Exercise 2\n",
    "\n",
    "How many branches are in this ttree?\n",
    "To answer this, you may want to use `len(...)`. "
   ]
  },
  {
   "cell_type": "code",
   "execution_count": null,
   "id": "41c7fdff-38fa-4458-a778-3160fb751391",
   "metadata": {},
   "outputs": [],
   "source": [
    "x = len(...) # fix me\n",
    "print(\"Number of branches:\", x)"
   ]
  },
  {
   "cell_type": "markdown",
   "id": "f18edbb6-6732-404c-9c7b-fb9469181a8a",
   "metadata": {},
   "source": [
    "### Exercise 3\n",
    "\n",
    "We can read TBranches as arrays using `tree.arrays([\"insert_list_of_branch_names_here\"])`. Fill in the blanks associated with Muons (we want charge, pt, eta, phi)."
   ]
  },
  {
   "cell_type": "code",
   "execution_count": null,
   "id": "0696f3cf-13bb-49b5-ba52-6d50320a26b6",
   "metadata": {},
   "outputs": [],
   "source": [
    "Electrons = tree.arrays([\"AnalysisElectronsAuxDyn.charge\", \"AnalysisElectronsAuxDyn.pt\",\"AnalysisElectronsAuxDyn.eta\", \"AnalysisElectronsAuxDyn.phi\",\"AnalysisElectronsAuxDyn.m\"])\n",
    "Muons = tree.arrays([...]) # fix me"
   ]
  },
  {
   "cell_type": "markdown",
   "id": "efeb7028-3673-4c80-a0cf-e91d650dfff3",
   "metadata": {},
   "source": [
    "### Exercise 4\n",
    "How many events are in this tree?"
   ]
  },
  {
   "cell_type": "code",
   "execution_count": null,
   "id": "904042e9-2987-46b9-abdc-c83a232d7fb6",
   "metadata": {},
   "outputs": [],
   "source": [
    "num_events = ... # fix me\n",
    "print(\"Number of events:\", num_events)"
   ]
  },
  {
   "cell_type": "markdown",
   "id": "5a2c373b-69b0-4723-8f09-4580f6e2c8ca",
   "metadata": {},
   "source": [
    "### Exercise 5\n",
    "\n",
    "How many electrons are in the 80th event? What are their charges? How many muons are in the 34th event? What are their pt? "
   ]
  },
  {
   "cell_type": "code",
   "execution_count": null,
   "id": "0c3a0dac-01d5-4310-8a75-b18dd3f71f65",
   "metadata": {},
   "outputs": [],
   "source": [
    "Electrons[\"AnalysisElectronsAuxDyn.charge\"][79]"
   ]
  },
  {
   "cell_type": "code",
   "execution_count": null,
   "id": "c8dbcc62-6f66-4fbe-ba71-9e5abb6e2625",
   "metadata": {},
   "outputs": [],
   "source": [
    "Muons[\"...\"][...] # fix me"
   ]
  },
  {
   "cell_type": "markdown",
   "id": "dc512a8e-d98c-4800-86b5-77bcae2bdf41",
   "metadata": {},
   "source": [
    "To make our lives easier, [ak.zip](https://awkward-array.org/doc/main/reference/generated/ak.zip.html) combines arrays into a single structure as a collection of records. "
   ]
  },
  {
   "cell_type": "code",
   "execution_count": null,
   "id": "c8b60945-4dd4-486b-bd62-038e153fff09",
   "metadata": {},
   "outputs": [],
   "source": [
    "e = ak.zip({\n",
    "    \"pt\" : Electrons[\"AnalysisElectronsAuxDyn.pt\"],\n",
    "    \"eta\" : Electrons[\"AnalysisElectronsAuxDyn.eta\"],\n",
    "    \"phi\" : Electrons[\"AnalysisElectronsAuxDyn.phi\"],\n",
    "    \"mass\" : Electrons[\"AnalysisElectronsAuxDyn.m\"],\n",
    "    \"charge\" : Electrons[\"AnalysisElectronsAuxDyn.charge\"]\n",
    "})\n",
    "mu = ak.zip({\n",
    "    \"pt\" : Muons[\"AnalysisMuonsAuxDyn.pt\"],\n",
    "    \"eta\" : Muons[\"AnalysisMuonsAuxDyn.eta\"],\n",
    "    \"phi\" : Muons[\"AnalysisMuonsAuxDyn.phi\"],\n",
    "    \"charge\" : Muons[\"AnalysisMuonsAuxDyn.charge\"]\n",
    "})"
   ]
  },
  {
   "cell_type": "markdown",
   "id": "2a82ceb6-0a7b-4263-946d-dbb11022bfb9",
   "metadata": {},
   "source": [
    "What's the total number of electrons in the data set? What about muons? The function [ak.num](https://awkward-array.org/doc/main/reference/generated/ak.num.html) may help."
   ]
  },
  {
   "cell_type": "code",
   "execution_count": null,
   "id": "71599b06-c394-4211-bdb2-801d8160ef0c",
   "metadata": {},
   "outputs": [],
   "source": [
    "num_e = ... # fix me\n",
    "num_mu = ... # fix me\n",
    "print(\"Total number of electrons: \", num_e)\n",
    "print(\"Total number of muons: \", num_mu)"
   ]
  },
  {
   "cell_type": "markdown",
   "id": "5deeaf92-5088-4533-8d8b-f7e479a08003",
   "metadata": {},
   "source": [
    "# Ready for analysis"
   ]
  },
  {
   "cell_type": "markdown",
   "id": "5b304d82-4e33-463b-8c1c-0765266eda58",
   "metadata": {},
   "source": [
    "Now we are going to calculate the tranverse momentum components and energy for electrons, using the above.  "
   ]
  },
  {
   "cell_type": "code",
   "execution_count": null,
   "id": "55e54192-e24e-46ed-8ee1-e6e468b1d99e",
   "metadata": {},
   "outputs": [],
   "source": [
    "#  Momentum components\n",
    "def Px(pt, phi):\n",
    "    return pt*np.cos(phi)\n",
    "\n",
    "def Py(pt,phi):\n",
    "    return pt*np.sin(phi)\n",
    "\n",
    "def Pz(pt,eta):\n",
    "    return pt*np.sinh(eta)\n",
    "\n",
    "def E(pt, eta, m):\n",
    "    return np.sqrt(pt**2 * np.cosh(eta)**2 + m**2)\n",
    "\n",
    "e_px = Px(e.pt,e.phi)\n",
    "e_py = Py(e.pt,e.phi)\n",
    "e_pz = Pz(e.pt,e.eta)\n",
    "e_E = E(e.pt,e.eta,e.mass)"
   ]
  },
  {
   "cell_type": "markdown",
   "id": "4bc63fdd-5e35-418a-b4c1-7fd3623ca56c",
   "metadata": {},
   "source": [
    "The invariant mass of two oppositely charged leptons is defined as:\n",
    "\\begin{equation}\n",
    "m_0 = \\sqrt{(\\sum{E})^2-(\\sum{p_x})^2-(\\sum{p_y})^2-(\\sum{p_z})^2}\n",
    "\\end{equation}\n"
   ]
  },
  {
   "cell_type": "markdown",
   "id": "342402ac-e2fc-4bad-8564-c3b810cf6d2d",
   "metadata": {},
   "source": [
    "### Exercise 6\n",
    "\n",
    "Create a function, using the functions above for energy and momentum components, that calculates the invariant mass in GeV. Calculate the invariant mass of the electron pair in the 63rd event."
   ]
  },
  {
   "cell_type": "code",
   "execution_count": null,
   "id": "524f12ae-b4f9-47e2-ac1a-c2441d942374",
   "metadata": {},
   "outputs": [],
   "source": [
    "def calc_invm(p1, p2):\n",
    "    sumpx = ... # fix me\n",
    "    sumpy = ... # fix me\n",
    "    sumpz = ... # fix me \n",
    "    sumE = ... # fix me\n",
    "    \n",
    "    invm = np.sqrt(...) # fix me\n",
    "    return invm/1000.0 # in GeV"
   ]
  },
  {
   "cell_type": "markdown",
   "id": "fe5a7659-2406-4ab3-88af-94e77939f643",
   "metadata": {},
   "source": [
    "## Data Selection\n",
    "\n",
    "As shown in Frank's workshop, we can mask awkward arrays to apply cuts for data selection. "
   ]
  },
  {
   "cell_type": "markdown",
   "id": "a0be39b1-301d-462d-ac05-085341967761",
   "metadata": {},
   "source": [
    "### Exercise 7\n",
    "\n",
    "Make a selection of events with more than two electrons and with electron pt greater than 25 GeV [data set is in MeV].\n",
    "\n",
    "This should leave you with a total of 2130 electrons."
   ]
  },
  {
   "cell_type": "code",
   "execution_count": null,
   "id": "296e0c8a-5cc2-44ee-81d9-a17618a7dcb9",
   "metadata": {},
   "outputs": [],
   "source": [
    "e_cut = (__insert_cut_here__)\n",
    "cleaned_e = e[e_cut]\n",
    "# check \n",
    "filtered_electrons = ... \n",
    "print(\"Number of electrons that passed selection:\", filtered_electrons)"
   ]
  },
  {
   "cell_type": "markdown",
   "id": "da84a6bd-71ac-46a5-a82f-7cb0dd10c26d",
   "metadata": {},
   "source": [
    "### Exercise 8\n",
    "\n",
    "Of these events, we want to calculate the invariant mass of oppositely charged pairs. However, some events include 3 electrons perhaps with charges [1,-1,1], which in this case have 2 possible pairings. \n",
    "\n",
    "How many events contain more than 2 electrons? What are their indices?\n",
    "\n",
    "The function [ak.where](https://awkward-array.org/doc/main/reference/generated/ak.where.html) and [ak.combinations](https://awkward-array.org/doc/main/reference/generated/ak.combinations.html) may come in handy."
   ]
  },
  {
   "cell_type": "code",
   "execution_count": null,
   "id": "c5cf1eea-e7b7-4ffe-b8e1-2746dc50f395",
   "metadata": {},
   "outputs": [],
   "source": [
    "lengths = ak.num(cleaned_e)\n",
    "indices = ak.where(lengths > 2)[0].tolist()\n",
    "indices"
   ]
  },
  {
   "cell_type": "code",
   "execution_count": null,
   "id": "489da2ce-59d2-4b17-ba84-33e54e6f462e",
   "metadata": {},
   "outputs": [],
   "source": [
    "cleaned_e[15180]"
   ]
  },
  {
   "cell_type": "code",
   "execution_count": null,
   "id": "76400d07-5311-4f08-8246-993198575202",
   "metadata": {},
   "outputs": [],
   "source": [
    "h = ak.combinations(cleaned_e, 2, axis = 1)\n",
    "h[15180]"
   ]
  },
  {
   "cell_type": "markdown",
   "id": "9d675dcf-182c-4d28-b4cc-a5496776d4f0",
   "metadata": {},
   "source": [
    "# Homework Assignment\n",
    "\n",
    "## Problem 1\n",
    "Continuing on with the workshop, the goal of this assignment is to plot the Z mass using the tools we've learned from the awkward library. Z decays into electron-positron or muon-antimuon. \n",
    "<div style=\"display: flex;\">\n",
    "    <img src=\"https://atlas.physicsmasterclasses.org/zpath_files/img/highslide/feynman/Z_ElectronPositron.png\" style=\"height:300px; margin-right: 10px;\">\n",
    "    <img src=\"https://atlas.physicsmasterclasses.org/zpath_files/img/highslide/feynman/Z_MyonAntimyon.png\" style=\"height:300px;\">\n",
    "</div>\n",
    "\n",
    "1. Create a function `selection_calc(lepton)` that applies the selection we've made above, obtains oppositely charged lepton pairs, and calculates the invariant mass. We want events with oppositely charged lepton pairs with pt > 25 GeV. \\\n",
    "    __hint__: Re-use the functions already built in class. \\\n",
    "    __note__: The data does not contain Muon mass, so you can assume all muons have mass = 0 (you might need to adjust the function `calc_invm` for this) \n",
    "   \n",
    "2. Plot the invariant mass of both electron and muon pairs on the same histogram. Find the peak of the histogram and return the Z mass."
   ]
  },
  {
   "cell_type": "markdown",
   "id": "9c3c85c0-f7d1-48f9-a724-635e650bfddf",
   "metadata": {},
   "source": [
    "## Problem 2\n",
    "\n",
    "Now you're on your own! We will make selections used for top quark mass calculation, using ATLAS ttbar mc sample, `/lstr/sahara/act/data/DAOD_PHYSLITE.37620644._000012.pool.root.1`.\n",
    "\n",
    "1. Make a selection of events that have atleast one lepton with pt > 30GeV and abs(eta) < 2.1 , and at least four jets. The jets should also have pt >25 GeV and abs(eta) < 2.4. How many events were selected? Plot distribution plots to check selection.\n",
    " \n",
    "2. Now let's check jet quality. The btag discriminant is defined as :\n",
    "   \\begin{equation}\n",
    "   D_{DL1} = \\log(\\frac{p_b}{f_c \\cdot p_c + (1-f_c) \\cdot p_u})\n",
    "   \\end{equation}\n",
    "   where $p_b, p_c, p_u$ are the fields labeled `BTagging_AntiKt4EMPFlowAuxDyn.DL1dv01_pb`, `BTagging_AntiKt4EMPFlowAuxDyn.DL1dv01_pc`, `BTagging_AntiKt4EMPFlowAuxDyn.DL1dv01_pu`, and $f_c = 0.018$. Calculate the Btag discriminant of the selected jets.\n",
    "\n",
    "3. A jet is considered as b-tagged if the $D_{DL1}$ variable is above threshold. The threshold value for 77% efficiency is `2.456`. Make another selection of events that have at least two b-tagged jets. How many events were selected? Plot distribution plots to check selection.\n",
    "\n",
    "__Hint__: [ak.any(...)](https://awkward-array.org/doc/main/reference/generated/ak.any.html) can help."
   ]
  },
  {
   "cell_type": "markdown",
   "id": "4fcc961f-80ab-4873-80a3-6f0261d45e0c",
   "metadata": {},
   "source": [
    "## Problem 3\n",
    "\n",
    "Using the provided ttbar sample from CMS,`/lstr/sahara/act/data/TTto2L2Nu_NanoAODv12-130x_mcRun3_13p6TeV_powheg-pythia.root`, calculate the efficiency of the HLT_Mu8 trigger for events with 1 muon as a function of muon pT. At what muon pT does the trigger 'turn on'? Can you guess what the trigger name means? Do this again, but for events with 2 muons. Explain any similarities/differences as they relate to the trigger.You may use coffea or uproot as your entry point into the file. \\\n",
    "__Note:__ The efficiency of a trigger is defined as the ratio of the number of events passing the trigger (HLT_Mu8 = True) to all events. This is often done for individual bins of some quantity. Histogram objects from the Hist package can be divided."
   ]
  },
  {
   "cell_type": "code",
   "execution_count": null,
   "id": "b4c83f76-d133-4b02-9381-478057e498ee",
   "metadata": {},
   "outputs": [],
   "source": []
  }
 ],
 "metadata": {
  "kernelspec": {
   "display_name": "Python 3 (ipykernel)",
   "language": "python",
   "name": "python3"
  },
  "language_info": {
   "codemirror_mode": {
    "name": "ipython",
    "version": 3
   },
   "file_extension": ".py",
   "mimetype": "text/x-python",
   "name": "python",
   "nbconvert_exporter": "python",
   "pygments_lexer": "ipython3",
   "version": "3.11.5"
  }
 },
 "nbformat": 4,
 "nbformat_minor": 5
}
