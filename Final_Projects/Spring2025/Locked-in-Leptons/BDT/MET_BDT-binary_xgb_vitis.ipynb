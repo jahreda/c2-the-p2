{
 "cells": [
  {
   "cell_type": "markdown",
   "id": "8017538d-1e26-4dc2-b8cd-982eb24276b5",
   "metadata": {},
   "source": [
    "# Notebook Setup"
   ]
  },
  {
   "cell_type": "code",
   "execution_count": null,
   "id": "e02bbb2e-902e-4117-9e57-150a60eb1c62",
   "metadata": {},
   "outputs": [],
   "source": [
    "import xgboost as xgb\n",
    "import matplotlib.pyplot as plt\n",
    "import numpy as np\n",
    "import conifer\n",
    "import os\n",
    "import sys\n",
    "os.environ['PATH'] = os.environ['XILINX_VITIS'] + '/bin:' + os.environ['PATH']\n",
    "\n",
    "# May need to update path to match local installation\n",
    "sys.path.append(\"/home/{}/Locked-in-Leptons/helpers/\".format(os.environ['USER']))\n",
    "import plotting\n",
    "from helper import get_traintest"
   ]
  },
  {
   "cell_type": "code",
   "execution_count": null,
   "id": "c7c0a419-744d-47a3-8803-666ddafd4c69",
   "metadata": {},
   "outputs": [],
   "source": [
    "# enable more output from conifer\n",
    "import logging\n",
    "logging.basicConfig(stream=sys.stdout, level=logging.WARNING)\n",
    "logger = logging.getLogger('conifer')\n",
    "logger.setLevel('DEBUG')\n",
    "\n",
    "print(f'Using conifer version {conifer.__version__}')"
   ]
  },
  {
   "cell_type": "markdown",
   "id": "2e6dc4d5-9a48-4495-b552-fe345a7bf587",
   "metadata": {},
   "source": [
    "# Load the Data "
   ]
  },
  {
   "cell_type": "code",
   "execution_count": null,
   "id": "29d56656-ee97-4176-934f-1f103f32237d",
   "metadata": {},
   "outputs": [],
   "source": [
    "# parquet data files need to be in same directory\n",
    "x_train, x_test, y_train, y_test = get_traintest()"
   ]
  },
  {
   "cell_type": "code",
   "execution_count": null,
   "id": "ec6d1cb9-701a-4646-912a-1b9f84c73405",
   "metadata": {},
   "outputs": [],
   "source": [
    "dtrain = xgb.DMatrix(x_train, label=y_train)\n",
    "dtest = xgb.DMatrix(x_test, label=y_test)"
   ]
  },
  {
   "cell_type": "markdown",
   "id": "87e133e8-ccb4-4531-be5a-3bc5743b4c04",
   "metadata": {},
   "source": [
    "# Train the Model (BDT)"
   ]
  },
  {
   "cell_type": "code",
   "execution_count": null,
   "id": "38c4c351-19da-4842-8431-1596dc665ab7",
   "metadata": {},
   "outputs": [],
   "source": [
    "param = {'max_depth': 5, 'eta': 1, 'objective': 'binary:logistic'}\n",
    "num_round = 25"
   ]
  },
  {
   "cell_type": "code",
   "execution_count": null,
   "id": "df8ce024-6144-40dd-b867-b192ab8a5053",
   "metadata": {},
   "outputs": [],
   "source": [
    "%%time\n",
    "bst = xgb.train(param, dtrain, num_round)"
   ]
  },
  {
   "cell_type": "markdown",
   "id": "f3f5e007-776c-43f9-a850-73d711543627",
   "metadata": {},
   "source": [
    "Check feature importances of classifier for clue on how model works. Need to label features manually here first to understand output clearly."
   ]
  },
  {
   "cell_type": "code",
   "execution_count": null,
   "id": "be641fd3-844e-4102-8f4d-be7c94960c93",
   "metadata": {},
   "outputs": [],
   "source": [
    "from sklearn.metrics import accuracy_score\n",
    "# Run classifier on test data\n",
    "y_xgb = bst.predict(dtest)\n",
    "print(y_xgb)\n",
    "predictions_xgb = [round(value) for value in y_xgb]\n",
    "\n",
    "from xgboost import plot_importance\n",
    "\n",
    "bst.feature_names = [\n",
    "    \"Jet0_pt\",\n",
    "    \"Jet0_eta\",\n",
    "    \"Jet0_phi\",\n",
    "    \"Jet1_pt\",\n",
    "    \"Jet1_eta\",\n",
    "    \"Jet1_phi\",\n",
    "    \"Jet2_pt\",\n",
    "    \"Jet2_eta\",\n",
    "    \"Jet2_phi\",\n",
    "    \"Lep0_pt\",\n",
    "    \"Lep0_eta\",\n",
    "    \"Lep0_phi\",\n",
    "    \"Lep1_pt\",\n",
    "    \"Lep1_eta\",\n",
    "    \"Lep1_phi\",\n",
    "    \"Met_et\",\n",
    "    \"Met_phi\",\n",
    "]\n",
    "\n",
    "plot_importance(bst)\n",
    "plt.show()"
   ]
  },
  {
   "cell_type": "markdown",
   "id": "dcb3e7d9-4789-414d-ae32-802d9e12b165",
   "metadata": {},
   "source": [
    "# Validate Performance"
   ]
  },
  {
   "cell_type": "code",
   "execution_count": null,
   "id": "d6756b17-03b5-4314-81b8-48ff8d2a63da",
   "metadata": {},
   "outputs": [],
   "source": [
    "print(f'Accuracy xgboost:   {accuracy_score(y_test, predictions_xgb):.5f}')\n",
    "\n",
    "from sklearn.metrics import roc_curve, auc\n",
    "# Calculate the false positive rate, true positive rate, and thresholds\n",
    "fpr, tpr, thresholds = roc_curve(y_test, y_xgb)\n",
    "\n",
    "# Calculate the area under the ROC curve (AUC)\n",
    "roc_auc = auc(fpr, tpr)\n",
    "\n",
    "# Plot the ROC curve\n",
    "fig, ax = plt.subplots(figsize=(9, 9))\n",
    "plt.plot(tpr, fpr, color='blue', label='{}, AUC = {:.1f}%'.format(\"xgboost\", roc_auc * 100.0),)\n",
    "\n",
    "plt.semilogy()\n",
    "plt.xlabel(\"Signal Efficiency\")\n",
    "plt.ylabel(\"Background Efficiency\")\n",
    "plt.xlim(0.0, 1.0)\n",
    "plt.ylim(0.001, 1)\n",
    "plt.grid(True)\n",
    "plt.figtext(0.25, 0.90, 'hls4ml', fontweight='bold', wrap=True, horizontalalignment='right', fontsize=14)\n",
    "plt.legend(loc=\"lower right\")\n",
    "ax.set_yscale('log')\n",
    "plt.show()"
   ]
  },
  {
   "cell_type": "code",
   "execution_count": null,
   "id": "0a0f2ec7-a041-4053-809e-6af961cde53b",
   "metadata": {},
   "outputs": [],
   "source": [
    "from pickle import dump\n",
    "with open(\"model_5_vitis/xgb_BC_nRound_{}.pkl\".format(num_round), \"wb\") as f:\n",
    "    dump(bst, f, protocol=5)"
   ]
  },
  {
   "cell_type": "markdown",
   "id": "bb7e0d26-5632-4928-a77f-05cc0e32e4d1",
   "metadata": {},
   "source": [
    "# Connifer Conversion\n",
    "<img src=\"https://github.com/thesps/conifer/blob/master/conifer_v1.png?raw=true\" width=\"250\" alt=\"conifer\" />"
   ]
  },
  {
   "cell_type": "code",
   "execution_count": null,
   "id": "df6ba362-91fe-42a6-a98c-8ecc3ed50c7a",
   "metadata": {},
   "outputs": [],
   "source": [
    "cfg = conifer.backends.xilinxhls.auto_config()\n",
    "# modify the config\n",
    "cfg['OutputDir'] = 'model_bdt_xgboost/'\n",
    "cfg['XilinxPart'] = 'xcu250-figd2104-2L-e'\n",
    "# print the config again\n",
    "print('Modified Configuration\\n' + '-' * 50)\n",
    "plotting.print_dict(cfg)\n",
    "print('-' * 50)"
   ]
  },
  {
   "cell_type": "code",
   "execution_count": null,
   "id": "57934f31-529f-4771-8527-9c3e91363ca5",
   "metadata": {},
   "outputs": [],
   "source": [
    "# convert the model to the conifer representation\n",
    "conifer_model = conifer.converters.convert_from_xgboost(bst, cfg)\n",
    "# write the project (writing HLS project to disk)\n",
    "conifer_model.write()"
   ]
  },
  {
   "cell_type": "markdown",
   "id": "aca6a192-5851-457b-9fff-22f339dc4066",
   "metadata": {},
   "source": [
    "# Emulation"
   ]
  },
  {
   "cell_type": "code",
   "execution_count": null,
   "id": "b3aae3d5-b797-4bd6-9375-128e7823ed9b",
   "metadata": {},
   "outputs": [],
   "source": [
    "conifer_model.compile()"
   ]
  },
  {
   "cell_type": "code",
   "execution_count": null,
   "id": "6c4ab6de-6e95-465c-86ec-c3f1a6a0a17a",
   "metadata": {},
   "outputs": [],
   "source": [
    "from scipy.special import expit\n",
    "y_hls = conifer_model.decision_function(x_test)\n",
    "y_hls_proba = expit(y_hls)\n",
    "predictions = [round(value) for value in y_hls_proba]"
   ]
  },
  {
   "cell_type": "markdown",
   "id": "00a56803-d1ad-4c1a-a447-1f5535ee6128",
   "metadata": {},
   "source": [
    "## Verify Model Performance in Emulation"
   ]
  },
  {
   "cell_type": "code",
   "execution_count": null,
   "id": "0554b45d-e3a3-435e-af60-6b2f24506325",
   "metadata": {},
   "outputs": [],
   "source": [
    "print(f'Accuracy xgboost:   {accuracy_score(y_test, predictions_xgb):.5f}')\n",
    "print(f'Accuracy conifer:   {accuracy_score(y_test, predictions):.5f}')\n",
    "\n",
    "from sklearn.metrics import roc_curve, auc\n",
    "fig, ax = plt.subplots(figsize=(9, 9))\n",
    "# Calculate the false positive rate, true positive rate, and thresholds\n",
    "fpr, tpr, thresholds = roc_curve(y_test, y_xgb)\n",
    "roc_auc = auc(fpr, tpr)\n",
    "plt.plot(tpr, fpr, color='blue', label='{}, AUC = {:.1f}%'.format(\"xgboost\", roc_auc * 100.0))\n",
    "\n",
    "fpr, tpr, thresholds = roc_curve(y_test, y_hls_proba)\n",
    "roc_auc = auc(fpr, tpr)\n",
    "plt.plot(tpr, fpr, color='blue', ls = \"--\", label='{}, AUC = {:.1f}%'.format(\"conifer\", roc_auc * 100.0),)\n",
    "\n",
    "plt.semilogy()\n",
    "plt.xlabel(\"Signal Efficiency\")\n",
    "plt.ylabel(\"Background Efficiency\")\n",
    "plt.xlim(0.0, 1.0)\n",
    "plt.ylim(0.001, 1)\n",
    "plt.grid(True)\n",
    "plt.figtext(0.25, 0.90, 'hls4ml', fontweight='bold', wrap=True, horizontalalignment='right', fontsize=14)\n",
    "plt.legend(loc=\"lower right\")\n",
    "ax.set_yscale('log')\n",
    "plt.show()"
   ]
  },
  {
   "cell_type": "markdown",
   "id": "311ad432-ece5-4997-b6f8-0707d84d61cb",
   "metadata": {},
   "source": [
    "# Synthesize"
   ]
  },
  {
   "cell_type": "code",
   "execution_count": null,
   "id": "63208079-5634-4759-a8fe-16355883d2ea",
   "metadata": {},
   "outputs": [],
   "source": [
    "conifer_model.build(synth=True, vsynth=True)"
   ]
  },
  {
   "cell_type": "code",
   "execution_count": null,
   "id": "44c34199-8561-4988-abbf-be813fa40c35",
   "metadata": {},
   "outputs": [],
   "source": [
    "report = conifer_model.read_report()\n",
    "plotting.print_dict(report)"
   ]
  },
  {
   "cell_type": "markdown",
   "id": "28e566ff-a3a6-4aea-bf9b-ab0e8e4d7552",
   "metadata": {},
   "source": [
    "# Precision Comparison"
   ]
  },
  {
   "cell_type": "code",
   "execution_count": null,
   "id": "a088f2c4-227a-4922-9fed-326ed9d9ae8f",
   "metadata": {},
   "outputs": [],
   "source": [
    "precisions = ['ap_fixed<16,6>', 'ap_fixed<18,8>','ap_fixed<24,10>', 'ap_fixed<32,14>']\n",
    "from scipy.special import expit\n",
    "from sklearn.metrics import accuracy_score\n",
    "print(f'Accuracy sklearn:   {accuracy_score(y_test, predictions_xgb):.5f}')\n",
    "\n",
    "\n",
    "from sklearn.metrics import roc_curve, auc\n",
    "fig, ax = plt.subplots(figsize=(9, 9))\n",
    "# Calculate the false positive rate, true positive rate, and thresholds\n",
    "fpr, tpr, thresholds = roc_curve(y_test, y_xgb)\n",
    "roc_auc = auc(fpr, tpr)\n",
    "plt.plot(tpr, fpr, color='blue', label='{}, AUC = {:.1f}%'.format(\"XGBoost\", roc_auc * 100.0))\n",
    "\n",
    "for precision in precisions:\n",
    "    # Set config\n",
    "    cfg = conifer.backends.xilinxhls.auto_config()\n",
    "    # modify the config\n",
    "    cfg['OutputDir'] = 'model_bdt_xgboost_{}/'.format(precision)\n",
    "    cfg['XilinxPart'] = 'xcu250-figd2104-2L-e'\n",
    "    cfg['Precision'] = precision\n",
    "    # print the config\n",
    "    print('Conifer HLS Configuration\\n' + '-' * 50)\n",
    "    plotting.print_dict(cfg)\n",
    "    print('-' * 50)\n",
    "\n",
    "    # convert the model to the conifer representation\n",
    "    conifer_model = conifer.converters.convert_from_xgboost(bst, cfg)\n",
    "    # write the project (writing HLS project to disk)\n",
    "    conifer_model.write()\n",
    "    conifer_model.compile()\n",
    "    y_sklearn = conifer_model.decision_function(x_test)\n",
    "    y_sklearn_proba = expit(y_sklearn)\n",
    "    predictions = [round(value) for value in y_sklearn_proba]\n",
    "    print(\"Precision: \", precision)\n",
    "    print(f'Accuracy conifer:   {accuracy_score(y_test, predictions):.5f}')\n",
    "    fpr, tpr, thresholds = roc_curve(y_test, y_sklearn_proba)\n",
    "    roc_auc = auc(fpr, tpr)\n",
    "    plt.plot(tpr, fpr, label='{} {}, AUC = {:.1f}%'.format(\"conifer\", precision, roc_auc * 100.0),)\n",
    "\n",
    "    conifer_model.build(synth=True, vsynth=True)\n",
    "    report = conifer_model.read_report()\n",
    "    plotting.print_dict(report)\n",
    "    \n",
    "plt.semilogy()\n",
    "plt.xlabel(\"Signal Efficiency\")\n",
    "plt.ylabel(\"Background Efficiency\")\n",
    "plt.xlim(0.0, 1.0)\n",
    "plt.ylim(0.001, 1)\n",
    "plt.grid(True)\n",
    "plt.figtext(0.25, 0.90, 'Conifer XGBoost BDT Conversion', fontweight='bold', wrap=True, horizontalalignment='right', fontsize=14)\n",
    "plt.legend(loc=\"lower right\")\n",
    "ax.set_yscale('log')\n",
    "plt.savefig(\"plots/xgboost_precision_optimization.png\")\n",
    "plt.show()"
   ]
  }
 ],
 "metadata": {
  "kernelspec": {
   "display_name": "Python 3 (ipykernel)",
   "language": "python",
   "name": "python3"
  },
  "language_info": {
   "codemirror_mode": {
    "name": "ipython",
    "version": 3
   },
   "file_extension": ".py",
   "mimetype": "text/x-python",
   "name": "python",
   "nbconvert_exporter": "python",
   "pygments_lexer": "ipython3",
   "version": "3.12.9"
  }
 },
 "nbformat": 4,
 "nbformat_minor": 5
}
