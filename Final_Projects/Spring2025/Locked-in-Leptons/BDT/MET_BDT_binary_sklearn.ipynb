{
 "cells": [
  {
   "cell_type": "markdown",
   "id": "8017538d-1e26-4dc2-b8cd-982eb24276b5",
   "metadata": {},
   "source": [
    "# Notebook Setup"
   ]
  },
  {
   "cell_type": "code",
   "execution_count": null,
   "id": "e02bbb2e-902e-4117-9e57-150a60eb1c62",
   "metadata": {},
   "outputs": [],
   "source": [
    "from sklearn.ensemble import GradientBoostingClassifier\n",
    "import matplotlib.pyplot as plt\n",
    "from sklearn.preprocessing import LabelEncoder\n",
    "from tensorflow.keras.utils import to_categorical\n",
    "import numpy as np\n",
    "import conifer\n",
    "import os\n",
    "import sys\n",
    "os.environ['PATH'] = os.environ['XILINX_VITIS'] + '/bin:' + os.environ['PATH']\n",
    "\n",
    "# May need to update path to match local installation\n",
    "sys.path.append(\"/home/{}/Locked-in-Leptons/helpers/\".format(os.environ['USER']))\n",
    "import plotting\n",
    "from helper import get_traintest"
   ]
  },
  {
   "cell_type": "code",
   "execution_count": null,
   "id": "c7c0a419-744d-47a3-8803-666ddafd4c69",
   "metadata": {},
   "outputs": [],
   "source": [
    "# enable more output from conifer\n",
    "import logging\n",
    "logging.basicConfig(stream=sys.stdout, level=logging.WARNING)\n",
    "logger = logging.getLogger('conifer')\n",
    "logger.setLevel('DEBUG')\n",
    "\n",
    "print(f'Using conifer version {conifer.__version__}')"
   ]
  },
  {
   "cell_type": "markdown",
   "id": "2e6dc4d5-9a48-4495-b552-fe345a7bf587",
   "metadata": {},
   "source": [
    "# Load the Data "
   ]
  },
  {
   "cell_type": "code",
   "execution_count": null,
   "id": "29d56656-ee97-4176-934f-1f103f32237d",
   "metadata": {},
   "outputs": [],
   "source": [
    "# parquet data files need to be in same directory\n",
    "x_train, x_test, y_train, y_test = get_traintest()"
   ]
  },
  {
   "cell_type": "code",
   "execution_count": null,
   "id": "a79777b3-6a6e-46f0-b7d4-7fdfab80ccdd",
   "metadata": {},
   "outputs": [],
   "source": [
    "classes = [0, 1]\n",
    "le = LabelEncoder().fit(classes)\n",
    "y_test = le.fit_transform(y_test)\n",
    "y_test = to_categorical(y_test, 2)\n",
    "y_test = y_test.astype(np.int64)\n",
    "\n",
    "y_train = np.expand_dims(y_train, axis=1)"
   ]
  },
  {
   "cell_type": "markdown",
   "id": "87e133e8-ccb4-4531-be5a-3bc5743b4c04",
   "metadata": {},
   "source": [
    "# Train the Model (BDT)"
   ]
  },
  {
   "cell_type": "code",
   "execution_count": null,
   "id": "38c4c351-19da-4842-8431-1596dc665ab7",
   "metadata": {},
   "outputs": [],
   "source": [
    "%%time\n",
    "clf = GradientBoostingClassifier(n_estimators=25, max_depth=5, learning_rate=1, verbose = 2).fit(x_train, y_train)"
   ]
  },
  {
   "cell_type": "markdown",
   "id": "dcb3e7d9-4789-414d-ae32-802d9e12b165",
   "metadata": {},
   "source": [
    "# Validate Performance"
   ]
  },
  {
   "cell_type": "code",
   "execution_count": null,
   "id": "d6756b17-03b5-4314-81b8-48ff8d2a63da",
   "metadata": {},
   "outputs": [],
   "source": [
    "from sklearn.metrics import accuracy_score\n",
    "# Run classifier on test data\n",
    "y_skl = clf.predict_proba(x_test)\n",
    "print(y_skl)\n",
    "\n",
    "print(f'Accuracy sklearn:   {accuracy_score(np.argmax(y_test, axis = 1), np.argmax(y_skl, axis=1)):.5f}')\n",
    "\n",
    "classes = [\"Z w/o MET\", \"W w/ MET\"]\n",
    "fig, ax = plt.subplots(figsize=(9, 9))\n",
    "_ = plotting.makeRoc(y_test, y_skl, classes, linestyle='-')\n",
    "\n",
    "# add a legend\n",
    "from matplotlib.lines import Line2D\n",
    "\n",
    "lines = [\n",
    "    Line2D([0], [0], ls='-'),\n",
    "\n",
    "]\n",
    "from matplotlib.legend import Legend\n",
    "\n",
    "leg = Legend(ax, lines, labels=['sklearn'], loc='lower right', frameon=False)\n",
    "ax.add_artist(leg)\n",
    "\n",
    "ax.set_yscale('log')"
   ]
  },
  {
   "cell_type": "markdown",
   "id": "bb7e0d26-5632-4928-a77f-05cc0e32e4d1",
   "metadata": {},
   "source": [
    "# Connifer Conversion\n",
    "<img src=\"https://github.com/thesps/conifer/blob/master/conifer_v1.png?raw=true\" width=\"250\" alt=\"conifer\" />"
   ]
  },
  {
   "cell_type": "code",
   "execution_count": null,
   "id": "df6ba362-91fe-42a6-a98c-8ecc3ed50c7a",
   "metadata": {},
   "outputs": [],
   "source": [
    "cfg = conifer.backends.xilinxhls.auto_config()\n",
    "# modify the config\n",
    "cfg['OutputDir'] = 'model_bdt_sklearn/'\n",
    "cfg['XilinxPart'] = 'xcu250-figd2104-2L-e'\n",
    "# print the config\n",
    "print('Conifer HLS Configuration\\n' + '-' * 50)\n",
    "plotting.print_dict(cfg)\n",
    "print('-' * 50)"
   ]
  },
  {
   "cell_type": "code",
   "execution_count": null,
   "id": "57934f31-529f-4771-8527-9c3e91363ca5",
   "metadata": {},
   "outputs": [],
   "source": [
    "# convert the model to the conifer representation\n",
    "conifer_model = conifer.converters.convert_from_sklearn(clf, cfg)\n",
    "# write the project (writing HLS project to disk)\n",
    "conifer_model.write()"
   ]
  },
  {
   "cell_type": "markdown",
   "id": "aca6a192-5851-457b-9fff-22f339dc4066",
   "metadata": {},
   "source": [
    "# Emulation"
   ]
  },
  {
   "cell_type": "code",
   "execution_count": null,
   "id": "b3aae3d5-b797-4bd6-9375-128e7823ed9b",
   "metadata": {},
   "outputs": [],
   "source": [
    "conifer_model.compile()"
   ]
  },
  {
   "cell_type": "code",
   "execution_count": null,
   "id": "6c4ab6de-6e95-465c-86ec-c3f1a6a0a17a",
   "metadata": {},
   "outputs": [],
   "source": [
    "from scipy.special import expit\n",
    "y_sklearn = conifer_model.decision_function(x_test)\n",
    "y_sklearn_proba = expit(y_sklearn)\n",
    "predictions = [round(value) for value in y_sklearn_proba]"
   ]
  },
  {
   "cell_type": "markdown",
   "id": "00a56803-d1ad-4c1a-a447-1f5535ee6128",
   "metadata": {},
   "source": [
    "## Verify Model Performance in Emulation"
   ]
  },
  {
   "cell_type": "code",
   "execution_count": null,
   "id": "0554b45d-e3a3-435e-af60-6b2f24506325",
   "metadata": {},
   "outputs": [],
   "source": [
    "from sklearn.metrics import accuracy_score\n",
    "print(f'Accuracy sklearn:   {accuracy_score(np.argmax(y_test, axis=1), np.argmax(y_skl, axis=1)):.5f}')\n",
    "print(f'Accuracy conifer:   {accuracy_score(np.argmax(y_test, axis=1), predictions):.5f}')\n",
    "\n",
    "from sklearn.metrics import roc_curve, auc\n",
    "fig, ax = plt.subplots(figsize=(9, 9))\n",
    "# Calculate the false positive rate, true positive rate, and thresholds\n",
    "fpr, tpr, thresholds = roc_curve(np.argmax(y_test, axis=1), y_skl[:,1])\n",
    "roc_auc = auc(fpr, tpr)\n",
    "plt.plot(tpr, fpr, color='blue', label='{}, AUC = {:.1f}%'.format(\"sklearn\", roc_auc * 100.0))\n",
    "\n",
    "fpr, tpr, thresholds = roc_curve(np.argmax(y_test, axis=1), y_sklearn_proba)\n",
    "roc_auc = auc(fpr, tpr)\n",
    "plt.plot(tpr, fpr, color='orange', label='{}, AUC = {:.1f}%'.format(\"conifer\", roc_auc * 100.0),)\n",
    "\n",
    "plt.semilogy()\n",
    "plt.xlabel(\"Signal Efficiency\")\n",
    "plt.ylabel(\"Background Efficiency\")\n",
    "plt.xlim(0.0, 1.0)\n",
    "plt.ylim(0.001, 1)\n",
    "plt.grid(True)\n",
    "plt.figtext(0.25, 0.90, 'Conifer BDT Conversion', fontweight='bold', wrap=True, horizontalalignment='right', fontsize=14)\n",
    "plt.legend(loc=\"lower right\")\n",
    "ax.set_yscale('log')\n",
    "plt.savefig(\"plots/sklearn_{}.png\".format(precision))\n",
    "plt.show()"
   ]
  },
  {
   "cell_type": "markdown",
   "id": "8d9352d7-e8bd-4c05-be3e-77c778577d94",
   "metadata": {},
   "source": [
    "# Synthesize"
   ]
  },
  {
   "cell_type": "code",
   "execution_count": null,
   "id": "189cafbb-c880-4b05-bd5e-efe2cd20478f",
   "metadata": {},
   "outputs": [],
   "source": [
    "conifer_model.build(synth=True, vsynth=True)"
   ]
  },
  {
   "cell_type": "code",
   "execution_count": null,
   "id": "8d597e27-cd49-48fc-9dcb-1121c81fd5fe",
   "metadata": {},
   "outputs": [],
   "source": [
    "report = conifer_model.read_report()\n",
    "plotting.print_dict(report)"
   ]
  },
  {
   "cell_type": "markdown",
   "id": "67206df1-39e2-469d-a5ea-38064a7700e0",
   "metadata": {},
   "source": [
    "# Precision Optimization Test"
   ]
  },
  {
   "cell_type": "code",
   "execution_count": null,
   "id": "fb08129f-87a8-4e34-8932-4662f669e04b",
   "metadata": {},
   "outputs": [],
   "source": [
    "precisions = ['ap_fixed<16,6>', 'ap_fixed<18,8>','ap_fixed<24,10>', 'ap_fixed<32,14>']\n",
    "from scipy.special import expit\n",
    "from sklearn.metrics import accuracy_score\n",
    "y_skl = clf.predict_proba(x_test)\n",
    "print(f'Accuracy sklearn:   {accuracy_score(np.argmax(y_test, axis=1), np.argmax(y_skl, axis=1)):.5f}')\n",
    "\n",
    "\n",
    "# Plot the ROC curve\n",
    "fig, ax = plt.subplots(figsize=(9, 9))\n",
    "# Calculate the false positive rate, true positive rate, and thresholds\n",
    "from sklearn.metrics import roc_curve, auc\n",
    "fpr, tpr, thresholds = roc_curve(np.argmax(y_test, axis=1), y_skl[:,1])\n",
    "roc_auc = auc(fpr, tpr)\n",
    "plt.plot(tpr, fpr, color='blue', label='{}, AUC = {:.1f}%'.format(\"sklearn\", roc_auc * 100.0))\n",
    "\n",
    "\n",
    "\n",
    "for precision in precisions:\n",
    "    # Set config\n",
    "    cfg = conifer.backends.xilinxhls.auto_config()\n",
    "    # modify the config\n",
    "    cfg['OutputDir'] = 'model_bdt_sklearn_{}/'.format(precision)\n",
    "    cfg['XilinxPart'] = 'xcu250-figd2104-2L-e'\n",
    "    cfg['Precision'] = precision\n",
    "    # print the config\n",
    "    print('Conifer HLS Configuration\\n' + '-' * 50)\n",
    "    plotting.print_dict(cfg)\n",
    "    print('-' * 50)\n",
    "\n",
    "    # convert the model to the conifer representation\n",
    "    conifer_model = conifer.converters.convert_from_sklearn(clf, cfg)\n",
    "    # write the project (writing HLS project to disk)\n",
    "    conifer_model.write()\n",
    "    conifer_model.compile()\n",
    "    y_sklearn = conifer_model.decision_function(x_test)\n",
    "    y_sklearn_proba = expit(y_sklearn)\n",
    "    predictions = [round(value) for value in y_sklearn_proba]\n",
    "    print(f'Accuracy conifer:   {accuracy_score(np.argmax(y_test, axis=1), predictions):.5f}')\n",
    "    fpr, tpr, thresholds = roc_curve(np.argmax(y_test, axis=1), y_sklearn_proba)\n",
    "    roc_auc = auc(fpr, tpr)\n",
    "    plt.plot(tpr, fpr, label='{} {}, AUC = {:.1f}%'.format(\"conifer\", precision, roc_auc * 100.0),)\n",
    "\n",
    "    \n",
    "\n",
    "plt.semilogy()\n",
    "plt.xlabel(\"Signal Efficiency\")\n",
    "plt.ylabel(\"Background Efficiency\")\n",
    "plt.xlim(0.0, 1.0)\n",
    "plt.ylim(0.001, 1)\n",
    "plt.grid(True)\n",
    "plt.figtext(0.25, 0.90, 'Conifer Sci-kit BDT Conversion', fontweight='bold', wrap=True, horizontalalignment='right', fontsize=14)\n",
    "plt.legend(loc=\"lower right\")\n",
    "ax.set_yscale('log')\n",
    "plt.savefig(\"plots/sklearn_precision_optimization.png\")\n",
    "plt.show()"
   ]
  }
 ],
 "metadata": {
  "kernelspec": {
   "display_name": "Python 3 (ipykernel)",
   "language": "python",
   "name": "python3"
  },
  "language_info": {
   "codemirror_mode": {
    "name": "ipython",
    "version": 3
   },
   "file_extension": ".py",
   "mimetype": "text/x-python",
   "name": "python",
   "nbconvert_exporter": "python",
   "pygments_lexer": "ipython3",
   "version": "3.12.9"
  }
 },
 "nbformat": 4,
 "nbformat_minor": 5
}
