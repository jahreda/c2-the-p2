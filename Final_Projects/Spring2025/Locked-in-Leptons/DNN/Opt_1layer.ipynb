{
 "cells": [
  {
   "cell_type": "code",
   "execution_count": null,
   "id": "41383bdb-398c-47b2-bea4-365c5b3febcb",
   "metadata": {},
   "outputs": [],
   "source": [
    "import os\n",
    "os.environ[\"TF_USE_LEGACY_KERAS\"] = \"1\"\n",
    "from tensorflow.keras.utils import to_categorical\n",
    "from sklearn.model_selection import train_test_split\n",
    "from sklearn.preprocessing import LabelEncoder, StandardScaler\n",
    "import numpy as np\n",
    "\n",
    "%matplotlib inline\n",
    "seed = 0\n",
    "np.random.seed(seed)\n",
    "import tensorflow as tf\n",
    "\n",
    "tf.random.set_seed(seed)\n",
    "\n",
    "os.environ['PATH'] = os.environ['XILINX_VITIS'] + '/bin:' + os.environ['PATH']\n",
    "\n",
    "# May need to update path to match local installation\n",
    "import sys\n",
    "sys.path.append(\"/home/{}/Locked-in-Leptons/helpers/\".format(os.environ['USER']))\n",
    "import plotting\n",
    "from helper import get_traintest"
   ]
  },
  {
   "cell_type": "markdown",
   "id": "ac767bc5-dc1d-4f9c-861a-e7b0afbe55bf",
   "metadata": {},
   "source": [
    "# Load the Data"
   ]
  },
  {
   "cell_type": "code",
   "execution_count": null,
   "id": "4c50ec1f-ab16-434a-bc47-39bf1c08e1df",
   "metadata": {},
   "outputs": [],
   "source": [
    "# parquet data files need to be in same directory\n",
    "x_train, x_test, y_train, y_test = get_traintest()"
   ]
  },
  {
   "cell_type": "code",
   "execution_count": null,
   "id": "71860fc5-32ae-46b9-866f-fb1da361bacd",
   "metadata": {},
   "outputs": [],
   "source": [
    "y_train = to_categorical(y_train,2) \n",
    "y_test = to_categorical(y_test,2)\n",
    "scaler = StandardScaler()\n",
    "x_train = scaler.fit_transform(x_train)\n",
    "x_test = scaler.transform(x_test)"
   ]
  },
  {
   "cell_type": "code",
   "execution_count": null,
   "id": "354940cf",
   "metadata": {},
   "outputs": [],
   "source": [
    "x_test"
   ]
  },
  {
   "cell_type": "markdown",
   "id": "867a9b4b-14d0-4e55-892a-a6efafa6f6e1",
   "metadata": {},
   "source": [
    "# Load the model"
   ]
  },
  {
   "cell_type": "code",
   "execution_count": null,
   "id": "5ed49afb-536d-45fc-983f-329744f14eeb",
   "metadata": {},
   "outputs": [],
   "source": [
    "from tensorflow.keras.models import load_model\n",
    "\n",
    "model = load_model('model_1/KERAS_check_best_model.h5')\n",
    "y_keras = model.predict(x_test)"
   ]
  },
  {
   "cell_type": "markdown",
   "id": "f3d3b6cc-1df4-4d85-998f-acba40b3c101",
   "metadata": {},
   "source": [
    "## Make hls4ml config & model"
   ]
  },
  {
   "cell_type": "code",
   "execution_count": null,
   "id": "60df97f6-abef-4a47-9e33-f93af82e6c73",
   "metadata": {},
   "outputs": [],
   "source": [
    "import hls4ml\n",
    "import plotting\n",
    "\n",
    "config = hls4ml.utils.config_from_keras_model(model, granularity='name', backend='Vitis')\n",
    "print(\"-----------------------------------\")\n",
    "plotting.print_dict(config)\n",
    "print(\"-----------------------------------\")"
   ]
  },
  {
   "cell_type": "markdown",
   "id": "b974c5cb-5c34-4a12-9bc9-cbef029df739",
   "metadata": {},
   "source": [
    "# Profiling"
   ]
  },
  {
   "cell_type": "code",
   "execution_count": null,
   "id": "c04d7906-a37e-46fd-a519-ae122a114d59",
   "metadata": {},
   "outputs": [],
   "source": [
    "%matplotlib inline\n",
    "from hls4ml.model.profiling import numerical, get_ymodel_keras\n",
    "\n",
    "for layer in config['LayerName'].keys():\n",
    "    config['LayerName'][layer]['Trace'] = True\n",
    "hls_model = hls4ml.converters.convert_from_keras_model(\n",
    "    model, hls_config=config, output_dir='model_1/hls4ml_prj_2', part='xcu250-figd2104-2L-e'\n",
    ")\n",
    "numerical(model=model, hls_model=hls_model, X=x_test[:1000])"
   ]
  },
  {
   "cell_type": "markdown",
   "id": "933f0190-907d-4a47-8749-a2ccb7eacbef",
   "metadata": {},
   "source": [
    "# Customize"
   ]
  },
  {
   "cell_type": "code",
   "execution_count": null,
   "id": "bd29e162-d3ac-46b6-8a93-d6c1b16a1a3f",
   "metadata": {},
   "outputs": [],
   "source": [
    "config['LayerName']['fc1']['Precision']['weight'] = 'ap_fixed<8,2>'\n",
    "hls_model = hls4ml.converters.convert_from_keras_model(\n",
    "    model, hls_config=config, output_dir='model_1/hls4ml_prj_2', part='xcu250-figd2104-2L-e'\n",
    ")\n",
    "numerical(model=model, hls_model=hls_model)\n",
    "hls4ml.utils.plot_model(hls_model, show_shapes=True, show_precision=True, to_file=None)"
   ]
  },
  {
   "cell_type": "markdown",
   "id": "9374df74-d958-468f-9efe-5ca763b9ea36",
   "metadata": {},
   "source": [
    "# Trace"
   ]
  },
  {
   "cell_type": "code",
   "execution_count": null,
   "id": "cbf75535-6ca0-4371-8f0b-7f5e09dbecab",
   "metadata": {},
   "outputs": [],
   "source": [
    "for layer in config['LayerName'].keys():\n",
    "    config['LayerName'][layer]['Trace'] = True\n",
    "hls_model = hls4ml.converters.convert_from_keras_model(\n",
    "    model, hls_config=config, backend='Vitis', output_dir='model_1/hls4ml_prj_2', part='xcu250-figd2104-2L-e'\n",
    ")"
   ]
  },
  {
   "cell_type": "markdown",
   "id": "2fc80f8c-c7fc-4795-a5ec-728e077643ab",
   "metadata": {},
   "source": [
    "# Compile, trace, predict"
   ]
  },
  {
   "cell_type": "code",
   "execution_count": null,
   "id": "5841b35e-bd01-4816-8c12-d552981fee45",
   "metadata": {},
   "outputs": [],
   "source": [
    "hls_model.compile()\n",
    "hls4ml_pred, hls4ml_trace = hls_model.trace(x_test[:1000])\n",
    "keras_trace = get_ymodel_keras(model, x_test[:1000])\n",
    "y_hls = hls_model.predict(x_test)"
   ]
  },
  {
   "cell_type": "code",
   "execution_count": null,
   "id": "aba73d61-d088-45d0-a280-54c883f9655f",
   "metadata": {},
   "outputs": [],
   "source": [
    "print(\"Keras layer 'fc1', first sample:\")\n",
    "print(keras_trace['fc1'][0])\n",
    "print(\"hls4ml layer 'fc1', first sample:\")\n",
    "print(hls4ml_trace['fc1'][0])"
   ]
  },
  {
   "cell_type": "code",
   "execution_count": null,
   "id": "ea9dce73-ca81-4a3a-8a1b-e014c5a231d1",
   "metadata": {},
   "outputs": [],
   "source": [
    "from sklearn.metrics import accuracy_score\n",
    "import matplotlib.pyplot as plt\n",
    "\n",
    "print(\"Keras  Accuracy: {}\".format(accuracy_score(np.argmax(y_test, axis=1), np.argmax(y_keras, axis=1))))\n",
    "print(\"hls4ml Accuracy: {}\".format(accuracy_score(np.argmax(y_test, axis=1), np.argmax(y_hls, axis=1))))\n",
    "\n",
    "fig, ax = plt.subplots(figsize=(9, 9))\n",
    "_ = plotting.makeRoc(y_test, y_keras, [\"NoMET\", \"MET\"])\n",
    "plt.gca().set_prop_cycle(None)  # reset the colors\n",
    "_ = plotting.makeRoc(y_test, y_hls, [\"NoMET\", \"MET\"], linestyle='--')\n",
    "\n",
    "from matplotlib.lines import Line2D\n",
    "\n",
    "lines = [Line2D([0], [0], ls='-'), Line2D([0], [0], ls='--')]\n",
    "from matplotlib.legend import Legend\n",
    "\n",
    "leg = Legend(ax, lines, labels=['keras', 'hls4ml'], loc='lower right', frameon=False)\n",
    "ax.add_artist(leg)\n",
    "\n",
    "plt.savefig(\"plots/ROC_firstlayer.png\")\n"
   ]
  },
  {
   "cell_type": "code",
   "execution_count": null,
   "id": "31a27f95-d2f1-426d-b3f5-8bd72e545dfc",
   "metadata": {},
   "outputs": [
    {
     "name": "stdout",
     "output_type": "stream",
     "text": [
      "INFO: [SCHED 204-61] Pipelining function 'dense_latency<ap_fixed<16, 6, 5, 3, 0>, ap_fixed<16, 6, 5, 3, 0>, config8>'.\n",
      "INFO: [HLS 200-1470] Pipelining result : Target II = NA, Final II = 1, Depth = 2, function 'dense_latency<ap_fixed<16, 6, 5, 3, 0>, ap_fixed<16, 6, 5, 3, 0>, config8>'\n",
      "INFO: [SCHED 204-11] Finished scheduling.\n",
      "INFO: [HLS 200-111] Finished Scheduling: CPU user time: 2.21 seconds. CPU system time: 0 seconds. Elapsed time: 2.23 seconds; current allocated memory: 2.515 GB.\n",
      "INFO: [BIND 205-100] Starting micro-architecture generation ...\n",
      "INFO: [BIND 205-101] Performing variable lifetime analysis.\n",
      "INFO: [BIND 205-101] Exploring resource sharing.\n",
      "INFO: [BIND 205-101] Binding ...\n",
      "INFO: [BIND 205-100] Starting global binding ...\n",
      "INFO: [BIND 205-100] Finished micro-architecture generation.\n",
      "INFO: [HLS 200-111] Finished Binding: CPU user time: 0.18 seconds. CPU system time: 0 seconds. Elapsed time: 0.2 seconds; current allocated memory: 2.515 GB.\n",
      "INFO: [HLS 200-10] ----------------------------------------------------------------\n",
      "INFO: [HLS 200-42] -- Implementing module 'relu_ap_fixed_16_6_5_3_0_ap_fixed_16_6_5_3_0_relu_config10_s' \n",
      "INFO: [HLS 200-10] ----------------------------------------------------------------\n",
      "INFO: [SCHED 204-11] Starting scheduling ...\n",
      "INFO: [SCHED 204-61] Pipelining function 'relu<ap_fixed<16, 6, 5, 3, 0>, ap_fixed<16, 6, 5, 3, 0>, relu_config10>'.\n",
      "INFO: [HLS 200-1470] Pipelining result : Target II = NA, Final II = 1, Depth = 1, function 'relu<ap_fixed<16, 6, 5, 3, 0>, ap_fixed<16, 6, 5, 3, 0>, relu_config10>'\n",
      "INFO: [SCHED 204-11] Finished scheduling.\n",
      "INFO: [HLS 200-111] Finished Scheduling: CPU user time: 0.25 seconds. CPU system time: 0.01 seconds. Elapsed time: 0.27 seconds; current allocated memory: 2.515 GB.\n",
      "INFO: [BIND 205-100] Starting micro-architecture generation ...\n",
      "INFO: [BIND 205-101] Performing variable lifetime analysis.\n",
      "INFO: [BIND 205-101] Exploring resource sharing.\n",
      "INFO: [BIND 205-101] Binding ...\n",
      "INFO: [BIND 205-100] Finished micro-architecture generation.\n",
      "INFO: [HLS 200-111] Finished Binding: CPU user time: 0.03 seconds. CPU system time: 0 seconds. Elapsed time: 0.04 seconds; current allocated memory: 2.515 GB.\n",
      "INFO: [HLS 200-10] ----------------------------------------------------------------\n",
      "INFO: [HLS 200-42] -- Implementing module 'dense_latency_ap_fixed_16_6_5_3_0_ap_fixed_16_6_5_3_0_config11_s' \n",
      "INFO: [HLS 200-10] ----------------------------------------------------------------\n",
      "INFO: [SCHED 204-11] Starting scheduling ...\n",
      "INFO: [SCHED 204-61] Pipelining function 'dense_latency<ap_fixed<16, 6, 5, 3, 0>, ap_fixed<16, 6, 5, 3, 0>, config11>'.\n",
      "INFO: [HLS 200-1470] Pipelining result : Target II = NA, Final II = 1, Depth = 1, function 'dense_latency<ap_fixed<16, 6, 5, 3, 0>, ap_fixed<16, 6, 5, 3, 0>, config11>'\n",
      "INFO: [SCHED 204-11] Finished scheduling.\n",
      "INFO: [HLS 200-111] Finished Scheduling: CPU user time: 0.31 seconds. CPU system time: 0 seconds. Elapsed time: 0.33 seconds; current allocated memory: 2.515 GB.\n",
      "INFO: [BIND 205-100] Starting micro-architecture generation ...\n",
      "INFO: [BIND 205-101] Performing variable lifetime analysis.\n",
      "INFO: [BIND 205-101] Exploring resource sharing.\n",
      "INFO: [BIND 205-101] Binding ...\n",
      "INFO: [BIND 205-100] Starting global binding ...\n",
      "INFO: [BIND 205-100] Finished micro-architecture generation.\n",
      "INFO: [HLS 200-111] Finished Binding: CPU user time: 0.04 seconds. CPU system time: 0 seconds. Elapsed time: 0.07 seconds; current allocated memory: 2.515 GB.\n",
      "INFO: [HLS 200-10] ----------------------------------------------------------------\n",
      "INFO: [HLS 200-42] -- Implementing module 'softmax_stable_ap_fixed_ap_fixed_16_6_5_3_0_softmax_config13_s' \n",
      "INFO: [HLS 200-10] ----------------------------------------------------------------\n",
      "INFO: [SCHED 204-11] Starting scheduling ...\n",
      "INFO: [SCHED 204-61] Pipelining function 'softmax_stable<ap_fixed,ap_fixed<16,6,5,3,0>,softmax_config13>'.\n",
      "INFO: [HLS 200-1470] Pipelining result : Target II = NA, Final II = 1, Depth = 3, function 'softmax_stable<ap_fixed,ap_fixed<16,6,5,3,0>,softmax_config13>'\n",
      "INFO: [SCHED 204-11] Finished scheduling.\n",
      "INFO: [HLS 200-111] Finished Scheduling: CPU user time: 0.14 seconds. CPU system time: 0.01 seconds. Elapsed time: 0.16 seconds; current allocated memory: 2.515 GB.\n",
      "INFO: [BIND 205-100] Starting micro-architecture generation ...\n",
      "INFO: [BIND 205-101] Performing variable lifetime analysis.\n",
      "INFO: [BIND 205-101] Exploring resource sharing.\n",
      "INFO: [BIND 205-101] Binding ...\n",
      "INFO: [BIND 205-100] Finished micro-architecture generation.\n",
      "INFO: [HLS 200-111] Finished Binding: CPU user time: 0.04 seconds. CPU system time: 0 seconds. Elapsed time: 0.05 seconds; current allocated memory: 2.515 GB.\n",
      "INFO: [HLS 200-10] ----------------------------------------------------------------\n",
      "INFO: [HLS 200-42] -- Implementing module 'myproject' \n",
      "INFO: [HLS 200-10] ----------------------------------------------------------------\n",
      "INFO: [SCHED 204-11] Starting scheduling ...\n",
      "INFO: [SCHED 204-61] Pipelining function 'myproject'.\n",
      "INFO: [HLS 200-1470] Pipelining result : Target II = NA, Final II = 1, Depth = 11, function 'myproject'\n",
      "INFO: [SCHED 204-11] Finished scheduling.\n",
      "INFO: [HLS 200-111] Finished Scheduling: CPU user time: 0.14 seconds. CPU system time: 0 seconds. Elapsed time: 0.16 seconds; current allocated memory: 2.515 GB.\n",
      "INFO: [BIND 205-100] Starting micro-architecture generation ...\n",
      "INFO: [BIND 205-101] Performing variable lifetime analysis.\n",
      "INFO: [BIND 205-101] Exploring resource sharing.\n",
      "INFO: [BIND 205-101] Binding ...\n",
      "INFO: [BIND 205-100] Finished micro-architecture generation.\n",
      "INFO: [HLS 200-111] Finished Binding: CPU user time: 0.36 seconds. CPU system time: 0 seconds. Elapsed time: 0.37 seconds; current allocated memory: 2.515 GB.\n",
      "INFO: [HLS 200-10] ----------------------------------------------------------------\n",
      "INFO: [HLS 200-10] -- Generating RTL for module 'dense_latency_ap_fixed_16_6_5_3_0_ap_fixed_16_6_5_3_0_config2_s' \n",
      "INFO: [HLS 200-10] ----------------------------------------------------------------\n",
      "INFO: [RTGEN 206-100] Generating core module 'mul_16s_6ns_22_1_1': 7 instance(s).\n",
      "INFO: [RTGEN 206-100] Generating core module 'mul_16s_6s_22_1_1': 5 instance(s).\n",
      "INFO: [RTGEN 206-100] Generating core module 'mul_16s_7ns_22_1_1': 1 instance(s).\n",
      "INFO: [RTGEN 206-100] Generating core module 'mul_16s_7s_22_1_1': 2 instance(s).\n",
      "INFO: [RTGEN 206-100] Generating core module 'mul_16s_8ns_22_1_1': 1 instance(s).\n",
      "INFO: [RTGEN 206-100] Generating core module 'mul_16s_8s_22_1_1': 1 instance(s).\n",
      "INFO: [RTGEN 206-100] Finished creating RTL model for 'dense_latency_ap_fixed_16_6_5_3_0_ap_fixed_16_6_5_3_0_config2_s'.\n",
      "INFO: [HLS 200-111] Finished Creating RTL model: CPU user time: 0.88 seconds. CPU system time: 0.01 seconds. Elapsed time: 1.06 seconds; current allocated memory: 2.515 GB.\n",
      "INFO: [HLS 200-10] ----------------------------------------------------------------\n",
      "INFO: [HLS 200-10] -- Generating RTL for module 'relu_ap_fixed_16_6_5_3_0_ap_fixed_16_6_5_3_0_relu_config4_s' \n",
      "INFO: [HLS 200-10] ----------------------------------------------------------------\n",
      "INFO: [RTGEN 206-100] Finished creating RTL model for 'relu_ap_fixed_16_6_5_3_0_ap_fixed_16_6_5_3_0_relu_config4_s'.\n",
      "INFO: [HLS 200-111] Finished Creating RTL model: CPU user time: 2.79 seconds. CPU system time: 0.04 seconds. Elapsed time: 2.93 seconds; current allocated memory: 2.538 GB.\n",
      "INFO: [HLS 200-10] ----------------------------------------------------------------\n",
      "INFO: [HLS 200-10] -- Generating RTL for module 'dense_latency_ap_fixed_16_6_5_3_0_ap_fixed_16_6_5_3_0_config5_s' \n",
      "INFO: [HLS 200-10] ----------------------------------------------------------------\n",
      "INFO: [RTGEN 206-100] Generating core module 'mul_16s_10ns_26_1_0': 8 instance(s).\n",
      "INFO: [RTGEN 206-100] Generating core module 'mul_16s_10s_26_1_0': 11 instance(s).\n",
      "INFO: [RTGEN 206-100] Generating core module 'mul_16s_11ns_26_1_0': 2 instance(s).\n",
      "INFO: [RTGEN 206-100] Generating core module 'mul_16s_11s_26_1_0': 2 instance(s).\n",
      "INFO: [RTGEN 206-100] Generating core module 'mul_16s_5ns_21_1_0': 2 instance(s).\n",
      "INFO: [RTGEN 206-100] Generating core module 'mul_16s_5s_21_1_0': 1 instance(s).\n",
      "INFO: [RTGEN 206-100] Generating core module 'mul_16s_6s_22_1_1': 5 instance(s).\n",
      "INFO: [RTGEN 206-100] Generating core module 'mul_16s_7ns_23_1_0': 2 instance(s).\n",
      "INFO: [RTGEN 206-100] Generating core module 'mul_16s_7s_23_1_0': 13 instance(s).\n",
      "INFO: [RTGEN 206-100] Generating core module 'mul_16s_8ns_24_1_0': 2 instance(s).\n",
      "INFO: [RTGEN 206-100] Generating core module 'mul_16s_8s_24_1_0': 5 instance(s).\n",
      "INFO: [RTGEN 206-100] Generating core module 'mul_16s_9ns_25_1_0': 7 instance(s).\n",
      "INFO: [RTGEN 206-100] Generating core module 'mul_16s_9s_25_1_0': 9 instance(s).\n",
      "INFO: [RTGEN 206-100] Finished creating RTL model for 'dense_latency_ap_fixed_16_6_5_3_0_ap_fixed_16_6_5_3_0_config5_s'.\n",
      "INFO: [HLS 200-111] Finished Creating RTL model: CPU user time: 0.6 seconds. CPU system time: 0.03 seconds. Elapsed time: 0.72 seconds; current allocated memory: 2.560 GB.\n"
     ]
    },
    {
     "name": "stdout",
     "output_type": "stream",
     "text": [
      "INFO: [HLS 200-10] ----------------------------------------------------------------\n",
      "INFO: [HLS 200-10] -- Generating RTL for module 'relu_ap_fixed_16_6_5_3_0_ap_fixed_16_6_5_3_0_relu_config7_s' \n",
      "INFO: [HLS 200-10] ----------------------------------------------------------------\n",
      "INFO: [RTGEN 206-100] Finished creating RTL model for 'relu_ap_fixed_16_6_5_3_0_ap_fixed_16_6_5_3_0_relu_config7_s'.\n",
      "INFO: [HLS 200-111] Finished Creating RTL model: CPU user time: 4.61 seconds. CPU system time: 0.07 seconds. Elapsed time: 4.75 seconds; current allocated memory: 2.610 GB.\n",
      "INFO: [HLS 200-10] ----------------------------------------------------------------\n",
      "INFO: [HLS 200-10] -- Generating RTL for module 'dense_latency_ap_fixed_16_6_5_3_0_ap_fixed_16_6_5_3_0_config8_s' \n",
      "INFO: [HLS 200-10] ----------------------------------------------------------------\n",
      "INFO: [RTGEN 206-100] Generating core module 'mul_16s_10s_26_1_0': 1 instance(s).\n",
      "INFO: [RTGEN 206-100] Generating core module 'mul_16s_12ns_26_1_0': 3 instance(s).\n",
      "INFO: [RTGEN 206-100] Generating core module 'mul_16s_12s_26_1_0': 3 instance(s).\n",
      "INFO: [RTGEN 206-100] Generating core module 'mul_16s_9s_25_1_0': 1 instance(s).\n",
      "INFO: [RTGEN 206-100] Finished creating RTL model for 'dense_latency_ap_fixed_16_6_5_3_0_ap_fixed_16_6_5_3_0_config8_s'.\n",
      "INFO: [HLS 200-111] Finished Creating RTL model: CPU user time: 0.29 seconds. CPU system time: 0 seconds. Elapsed time: 0.32 seconds; current allocated memory: 2.610 GB.\n",
      "INFO: [HLS 200-10] ----------------------------------------------------------------\n",
      "INFO: [HLS 200-10] -- Generating RTL for module 'relu_ap_fixed_16_6_5_3_0_ap_fixed_16_6_5_3_0_relu_config10_s' \n",
      "INFO: [HLS 200-10] ----------------------------------------------------------------\n",
      "INFO: [RTGEN 206-100] Finished creating RTL model for 'relu_ap_fixed_16_6_5_3_0_ap_fixed_16_6_5_3_0_relu_config10_s'.\n",
      "INFO: [HLS 200-111] Finished Creating RTL model: CPU user time: 1.6 seconds. CPU system time: 0.03 seconds. Elapsed time: 1.65 seconds; current allocated memory: 2.624 GB.\n",
      "INFO: [HLS 200-10] ----------------------------------------------------------------\n",
      "INFO: [HLS 200-10] -- Generating RTL for module 'dense_latency_ap_fixed_16_6_5_3_0_ap_fixed_16_6_5_3_0_config11_s' \n",
      "INFO: [HLS 200-10] ----------------------------------------------------------------\n",
      "INFO: [RTGEN 206-100] Generating core module 'mul_16s_12ns_26_1_0': 1 instance(s).\n",
      "INFO: [RTGEN 206-100] Generating core module 'mul_16s_12s_26_1_0': 1 instance(s).\n",
      "INFO: [RTGEN 206-100] Generating core module 'mul_16s_13ns_26_1_1': 1 instance(s).\n",
      "INFO: [RTGEN 206-100] Generating core module 'mul_16s_13s_26_1_1': 1 instance(s).\n",
      "INFO: [RTGEN 206-100] Finished creating RTL model for 'dense_latency_ap_fixed_16_6_5_3_0_ap_fixed_16_6_5_3_0_config11_s'.\n",
      "INFO: [HLS 200-111] Finished Creating RTL model: CPU user time: 0.18 seconds. CPU system time: 0.01 seconds. Elapsed time: 0.23 seconds; current allocated memory: 2.627 GB.\n",
      "INFO: [HLS 200-10] ----------------------------------------------------------------\n",
      "INFO: [HLS 200-10] -- Generating RTL for module 'softmax_stable_ap_fixed_ap_fixed_16_6_5_3_0_softmax_config13_s' \n",
      "INFO: [HLS 200-10] ----------------------------------------------------------------\n",
      "INFO: [SYN 201-210] Renamed object name 'softmax_stable_ap_fixed_ap_fixed_16_6_5_3_0_softmax_config13_s_exp_table_ROM_AUTO_1R' to 'softmax_stable_ap_fixed_ap_fixed_16_6_5_3_0_softmax_config13_s_exp_table_ROM_bkb' due to the length limit 80\n",
      "INFO: [SYN 201-210] Renamed object name 'softmax_stable_ap_fixed_ap_fixed_16_6_5_3_0_softmax_config13_s_invert_table_ROM_AUTO_1R' to 'softmax_stable_ap_fixed_ap_fixed_16_6_5_3_0_softmax_config13_s_invert_table_Rcud' due to the length limit 80\n",
      "INFO: [HLS 200-1030] Apply Unified Pipeline Control on module 'softmax_stable_ap_fixed_ap_fixed_16_6_5_3_0_softmax_config13_s' pipeline 'softmax_stable<ap_fixed,ap_fixed<16,6,5,3,0>,softmax_config13>' pipeline type 'function pipeline'\n",
      "INFO: [RTGEN 206-100] Generating core module 'mul_18s_17ns_26_1_1': 2 instance(s).\n",
      "INFO: [RTGEN 206-100] Finished creating RTL model for 'softmax_stable_ap_fixed_ap_fixed_16_6_5_3_0_softmax_config13_s'.\n",
      "INFO: [RTMG 210-279] Implementing memory 'myproject_softmax_stable_ap_fixed_ap_fixed_16_6_5_3_0_softmax_config13_s_exp_table_ROM_bkb' using auto ROMs.\n",
      "INFO: [RTMG 210-279] Implementing memory 'myproject_softmax_stable_ap_fixed_ap_fixed_16_6_5_3_0_softmax_config13_s_invert_table_Rcud' using auto ROMs.\n",
      "INFO: [HLS 200-111] Finished Creating RTL model: CPU user time: 0.32 seconds. CPU system time: 0.01 seconds. Elapsed time: 0.37 seconds; current allocated memory: 2.631 GB.\n",
      "INFO: [HLS 200-10] ----------------------------------------------------------------\n",
      "INFO: [HLS 200-10] -- Generating RTL for module 'myproject' \n",
      "INFO: [HLS 200-10] ----------------------------------------------------------------\n",
      "INFO: [RTGEN 206-500] Setting interface mode on port 'myproject/fc1_input' to 'ap_vld'.\n",
      "INFO: [RTGEN 206-500] Setting interface mode on port 'myproject/layer13_out_0' to 'ap_vld'.\n",
      "INFO: [RTGEN 206-500] Setting interface mode on port 'myproject/layer13_out_1' to 'ap_vld'.\n",
      "INFO: [RTGEN 206-500] Setting interface mode on function 'myproject' to 'ap_ctrl_hs'.\n",
      "INFO: [HLS 200-1030] Apply Unified Pipeline Control on module 'myproject' pipeline 'myproject' pipeline type 'function pipeline'\n",
      "INFO: [RTGEN 206-100] Finished creating RTL model for 'myproject'.\n",
      "INFO: [HLS 200-111] Finished Creating RTL model: CPU user time: 0.29 seconds. CPU system time: 0.01 seconds. Elapsed time: 0.32 seconds; current allocated memory: 2.659 GB.\n",
      "INFO: [HLS 200-111] Finished Generating all RTL models: CPU user time: 6.02 seconds. CPU system time: 0.05 seconds. Elapsed time: 6.54 seconds; current allocated memory: 2.665 GB.\n",
      "INFO: [HLS 200-111] Finished Updating report files: CPU user time: 0.66 seconds. CPU system time: 0.03 seconds. Elapsed time: 0.71 seconds; current allocated memory: 2.687 GB.\n",
      "INFO: [VHDL 208-304] Generating VHDL RTL for myproject.\n",
      "INFO: [VLOG 209-307] Generating Verilog RTL for myproject.\n",
      "INFO: [HLS 200-789] **** Estimated Fmax: 228.79 MHz\n",
      "INFO: [HLS 200-111] Finished Command csynth_design CPU user time: 102.99 seconds. CPU system time: 1.76 seconds. Elapsed time: 109.34 seconds; current allocated memory: 410.984 MB.\n",
      "***** C/RTL SYNTHESIS COMPLETED IN 0h1m49s *****\n",
      "INFO: [HLS 200-112] Total CPU user time: 105.74 seconds. Total CPU system time: 2.37 seconds. Total elapsed time: 112.99 seconds; peak allocated memory: 2.687 GB.\n",
      "INFO: [Common 17-206] Exiting vitis_hls at Fri May  9 13:29:19 2025...\n",
      "Vivado synthesis report not found.\n",
      "Cosim report not found.\n",
      "Timing report not found.\n"
     ]
    },
    {
     "data": {
      "text/plain": [
       "{'CSynthesisReport': {'TargetClockPeriod': '5.00',\n",
       "  'EstimatedClockPeriod': '4.371',\n",
       "  'BestLatency': '10',\n",
       "  'WorstLatency': '10',\n",
       "  'IntervalMin': '1',\n",
       "  'IntervalMax': '1',\n",
       "  'BRAM_18K': '4',\n",
       "  'DSP': '100',\n",
       "  'FF': '5733',\n",
       "  'LUT': '41860',\n",
       "  'URAM': '0',\n",
       "  'AvailableBRAM_18K': '5376',\n",
       "  'AvailableDSP': '12288',\n",
       "  'AvailableFF': '3456000',\n",
       "  'AvailableLUT': '1728000',\n",
       "  'AvailableURAM': '1280'}}"
      ]
     },
     "execution_count": 13,
     "metadata": {},
     "output_type": "execute_result"
    }
   ],
   "source": [
    "hls_model.build(csim=False)"
   ]
  },
  {
   "cell_type": "code",
   "execution_count": null,
   "id": "e1dc045a-6180-4427-813d-3514dbf48c2f",
   "metadata": {},
   "outputs": [],
   "source": [
    "hls4ml.report.read_vivado_report('model_1/hls4ml_prj_2')"
   ]
  },
  {
   "cell_type": "code",
   "execution_count": null,
   "id": "590bec43-3b39-4dc3-b5da-ae292a6a5489",
   "metadata": {},
   "outputs": [],
   "source": [
    "hls4ml.report.read_vivado_report('model_1/hls4ml_prj')"
   ]
  },
  {
   "cell_type": "code",
   "execution_count": null,
   "id": "69588b18-5d55-42dc-8339-b492d39ca76a",
   "metadata": {},
   "outputs": [],
   "source": []
  }
 ],
 "metadata": {
  "kernelspec": {
   "display_name": "Python 3 (ipykernel)",
   "language": "python",
   "name": "python3"
  },
  "language_info": {
   "codemirror_mode": {
    "name": "ipython",
    "version": 3
   },
   "file_extension": ".py",
   "mimetype": "text/x-python",
   "name": "python",
   "nbconvert_exporter": "python",
   "pygments_lexer": "ipython3",
   "version": "3.12.9"
  }
 },
 "nbformat": 4,
 "nbformat_minor": 5
}
